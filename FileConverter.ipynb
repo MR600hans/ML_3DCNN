{
 "cells": [
  {
   "cell_type": "code",
   "execution_count": null,
   "metadata": {},
   "outputs": [],
   "source": [
    "import pydicom\n",
    "import os\n",
    "\n",
    "\n",
    "def get_dicom_image_shape(dicom_folder):\n",
    "    dicom_files = [os.path.join(dicom_folder, f) for f in os.listdir(\n",
    "        dicom_folder) if f.endswith('.dcm')]\n",
    "\n",
    "    if dicom_files:\n",
    "        ref_dicom = pydicom.read_file(dicom_files[0])\n",
    "        image_shape = (ref_dicom.Rows, ref_dicom.Columns)\n",
    "        print(f\"DICOM Image Shape: {image_shape}\")\n",
    "    else:\n",
    "        print(\"No DICOM files found in the specified folder.\")\n",
    "\n",
    "get_dicom_image_shape(\n",
    "    'dcmFile')"
   ]
  },
  {
   "cell_type": "code",
   "execution_count": null,
   "metadata": {},
   "outputs": [],
   "source": [
    "import nibabel as nib\n",
    "import numpy as np\n",
    "\n",
    "\n",
    "def convert_dicom_to_nifti(dicom_folder, output_folder):\n",
    "    if not os.path.exists(output_folder):\n",
    "        os.makedirs(output_folder)\n",
    "\n",
    "    dicom_files = [os.path.join(dicom_folder, f) for f in os.listdir(\n",
    "        dicom_folder) if f.endswith('.dcm')]\n",
    "\n",
    "    ref_dicom = pydicom.read_file(dicom_files[0])\n",
    "    image_shape = (ref_dicom.Rows, ref_dicom.Columns, len(dicom_files))\n",
    "    image_dtype = ref_dicom.pixel_array.dtype\n",
    "\n",
    "    data_array = np.zeros(image_shape, dtype=image_dtype)\n",
    "\n",
    "    for index, dicom_file in enumerate(dicom_files):\n",
    "        dicom_data = pydicom.read_file(dicom_file)\n",
    "        data_array[:, :, index] = dicom_data.pixel_array\n",
    "\n",
    "    nifti_image = nib.Nifti1Image(data_array, affine=np.eye(4))\n",
    "\n",
    "    original_name = os.path.splitext(os.path.basename(dicom_files[0]))[0]\n",
    "    nifti_filename = original_name + \".nii\"\n",
    "\n",
    "    nifti_file_path = os.path.join(output_folder, nifti_filename)\n",
    "\n",
    "    nib.save(nifti_image, nifti_file_path)\n",
    "\n",
    "\n",
    "# 示例用法\n",
    "convert_dicom_to_nifti('dcmFile', 'niiFile')"
   ]
  },
  {
   "cell_type": "code",
   "execution_count": null,
   "metadata": {},
   "outputs": [],
   "source": [
    "import nibabel as nib\n",
    "\n",
    "nii_file_path = 'path_to_your_nii_file.nii'\n",
    "nii_image = nib.load(\n",
    "    'niiFile/ADNI_009_S_4359_MR_Axial_T2-FLAIR_br_raw_20111209075722350_23_S132245_I270647.nii')\n",
    "image_data = nii_image.get_fdata()\n",
    "\n",
    "print(\"Dimensions of the NIFTI image:\", image_data.shape)"
   ]
  },
  {
   "cell_type": "code",
   "execution_count": null,
   "metadata": {},
   "outputs": [],
   "source": [
    "from nilearn import plotting\n",
    "\n",
    "nifti_file = 'niiFile/ADNI_009_S_4359_MR_Axial_T2-FLAIR_br_raw_20111209075722350_23_S132245_I270647.nii'\n",
    "\n",
    "view = plotting.view_img(nifti_file, threshold='auto')\n",
    "view"
   ]
  },
  {
   "cell_type": "code",
   "execution_count": null,
   "metadata": {},
   "outputs": [],
   "source": [
    "import matplotlib.pyplot as plt\n",
    "from mpl_toolkits.mplot3d import Axes3D\n",
    "import nibabel as nib\n",
    "import numpy as np\n",
    "\n",
    "nifti_file = 'niiFile/ADNI_009_S_4359_MR_Axial_T2-FLAIR_br_raw_20111209075722350_23_S132245_I270647.nii'\n",
    "#nifti_file = 'ADNI_RESIZED/ADNI_002_S_0295_MR_MPR__GradWarp__B1_Correction_Br_20070219174038655_S21856_I40967.nii'\n",
    "img = nib.load(nifti_file)\n",
    "data = img.get_fdata()\n",
    "\n",
    "\n",
    "threshold = 100  \n",
    "data[data < threshold] = np.nan\n",
    "\n",
    "fig = plt.figure()\n",
    "ax = fig.add_subplot(111, projection='3d')\n",
    "x, y, z = np.where(~np.isnan(data))\n",
    "sc = ax.scatter(x, y, z, c=data[x, y, z],\n",
    "                cmap='viridis', alpha=0.5, s=1) \n",
    "\n",
    "\n",
    "ax.view_init(30, 120) \n",
    "\n",
    "plt.colorbar(sc)  \n",
    "plt.show()"
   ]
  },
  {
   "cell_type": "code",
   "execution_count": null,
   "metadata": {},
   "outputs": [],
   "source": [
    "import matplotlib.pyplot as plt\n",
    "from mpl_toolkits.mplot3d import Axes3D\n",
    "import nibabel as nib\n",
    "import numpy as np\n",
    "\n",
    "nifti_file = 'ADNI_RESIZED/ADNI_002_S_0295_MR_MPR__GradWarp__B1_Correction_Br_20070219174038655_S21856_I40967.nii'\n",
    "img = nib.load(nifti_file)\n",
    "data = img.get_fdata()\n",
    "\n",
    "\n",
    "threshold = 1 \n",
    "data[data < threshold] = np.nan\n",
    "\n",
    "fig = plt.figure()\n",
    "ax = fig.add_subplot(111, projection='3d')\n",
    "x, y, z = np.where(~np.isnan(data))\n",
    "sc = ax.scatter(x, y, z, c=data[x, y, z],\n",
    "                cmap='viridis', alpha=0.5, s=1)\n",
    "\n",
    "\n",
    "ax.view_init(30, 120)\n",
    "\n",
    "plt.colorbar(sc) \n",
    "plt.show()"
   ]
  }
 ],
 "metadata": {
  "kernelspec": {
   "display_name": "Python 3",
   "language": "python",
   "name": "python3"
  },
  "language_info": {
   "codemirror_mode": {
    "name": "ipython",
    "version": 3
   },
   "file_extension": ".py",
   "mimetype": "text/x-python",
   "name": "python",
   "nbconvert_exporter": "python",
   "pygments_lexer": "ipython3",
   "version": "3.10.4"
  }
 },
 "nbformat": 4,
 "nbformat_minor": 2
}
