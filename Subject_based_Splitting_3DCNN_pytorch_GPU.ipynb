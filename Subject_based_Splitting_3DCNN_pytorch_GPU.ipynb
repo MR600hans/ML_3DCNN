{
 "cells": [
  {
   "cell_type": "markdown",
   "id": "5898d870",
   "metadata": {},
   "source": [
    "# PyTorch 3DCNN Classfication (Subject Base data Splitting)\n",
    "This notebook using PyTorch and cudaGPU."
   ]
  },
  {
   "cell_type": "code",
   "execution_count": 1,
   "metadata": {},
   "outputs": [],
   "source": [
    "import os\n",
    "import pandas as pd\n",
    "import numpy as np\n",
    "import nibabel as nib\n",
    "from sklearn.model_selection import train_test_split\n",
    "import torch\n",
    "import torch.nn.functional as F\n",
    "import torch.nn as nn\n",
    "import torch.optim as optim\n",
    "from torch.utils.data import Dataset, DataLoader\n",
    "from tqdm import tqdm\n",
    "from sklearn.metrics import f1_score, accuracy_score\n",
    "import matplotlib.pyplot as plt\n"
   ]
  },
  {
   "cell_type": "code",
   "execution_count": 2,
   "metadata": {},
   "outputs": [
    {
     "name": "stdout",
     "output_type": "stream",
     "text": [
      "decive: cuda\n"
     ]
    }
   ],
   "source": [
    "device = torch.device(\"cuda\" if torch.cuda.is_available() else \"cpu\")\n",
    "print(f\"decive: {device}\")"
   ]
  },
  {
   "cell_type": "markdown",
   "metadata": {},
   "source": [
    "# 讀取數據"
   ]
  },
  {
   "cell_type": "code",
   "execution_count": 3,
   "metadata": {},
   "outputs": [],
   "source": [
    "csv_path = 'structured_data_mac.csv'\n",
    "df = pd.read_csv(csv_path)"
   ]
  },
  {
   "cell_type": "markdown",
   "metadata": {},
   "source": [
    "# 檢查並清理數據"
   ]
  },
  {
   "cell_type": "code",
   "execution_count": 4,
   "metadata": {},
   "outputs": [],
   "source": [
    "if df['Group'].isnull().any():\n",
    "    df = df.dropna(subset=['Group'])"
   ]
  },
  {
   "cell_type": "markdown",
   "metadata": {},
   "source": [
    "# 檢查是否存在非預期的標籤值"
   ]
  },
  {
   "cell_type": "code",
   "execution_count": 5,
   "metadata": {},
   "outputs": [],
   "source": [
    "expected_labels = ['CN', 'MCI', 'AD']\n",
    "df = df[df['Group'].isin(expected_labels)]\n",
    "\n",
    "image_paths = df['Image Path'].tolist()"
   ]
  },
  {
   "cell_type": "markdown",
   "metadata": {},
   "source": [
    "# 將標籤映射為數字"
   ]
  },
  {
   "cell_type": "code",
   "execution_count": 6,
   "metadata": {},
   "outputs": [],
   "source": [
    "label_mapping = {'CN': 0, 'MCI': 1, 'AD': 2}\n",
    "labels = df['Group'].map(label_mapping).tolist()"
   ]
  },
  {
   "cell_type": "markdown",
   "metadata": {},
   "source": [
    "# 獲取個別的病人ID"
   ]
  },
  {
   "cell_type": "code",
   "execution_count": 7,
   "metadata": {},
   "outputs": [],
   "source": [
    "unique_patients = df['Subject'].unique()"
   ]
  },
  {
   "cell_type": "markdown",
   "metadata": {},
   "source": [
    "# 根據病人ID進行訓練和驗證分割"
   ]
  },
  {
   "cell_type": "code",
   "execution_count": 8,
   "metadata": {},
   "outputs": [],
   "source": [
    "train_ids, val_ids = train_test_split(unique_patients, test_size=0.2, random_state=42)"
   ]
  },
  {
   "cell_type": "markdown",
   "metadata": {},
   "source": [
    "# 創建訓練和驗證DataFrame"
   ]
  },
  {
   "cell_type": "code",
   "execution_count": 9,
   "metadata": {},
   "outputs": [],
   "source": [
    "train_df = df[df['Subject'].isin(train_ids)]\n",
    "val_df = df[df['Subject'].isin(val_ids)]"
   ]
  },
  {
   "cell_type": "markdown",
   "metadata": {},
   "source": [
    "# 提取訓練和驗證影像路徑和標籤"
   ]
  },
  {
   "cell_type": "code",
   "execution_count": 10,
   "metadata": {},
   "outputs": [],
   "source": [
    "train_paths = train_df['Image Path'].tolist()\n",
    "train_labels = train_df['Group'].map(label_mapping).tolist()\n",
    "val_paths = val_df['Image Path'].tolist()\n",
    "val_labels = val_df['Group'].map(label_mapping).tolist()"
   ]
  },
  {
   "cell_type": "markdown",
   "metadata": {},
   "source": [
    "# 將標籤轉換為 tensor"
   ]
  },
  {
   "cell_type": "code",
   "execution_count": 11,
   "metadata": {},
   "outputs": [],
   "source": [
    "train_labels_tensor = torch.tensor(train_labels, dtype=torch.long)\n",
    "val_labels_tensor = torch.tensor(val_labels, dtype=torch.long)"
   ]
  },
  {
   "cell_type": "code",
   "execution_count": 12,
   "metadata": {},
   "outputs": [],
   "source": [
    "# Define the PyTorch dataset class\n",
    "class NiftiDataset(Dataset):\n",
    "    def __init__(self, image_paths, labels):\n",
    "        self.image_paths = image_paths\n",
    "        self.labels = labels\n",
    "\n",
    "    def __len__(self):\n",
    "        return len(self.image_paths)\n",
    "\n",
    "    def __getitem__(self, idx):\n",
    "        nifti_path = self.image_paths[idx]\n",
    "        label = self.labels[idx]\n",
    "        nifti_image = nib.load(nifti_path)\n",
    "        image = nifti_image.get_fdata()\n",
    "        image = np.resize(image, (96, 96, 96))\n",
    "        image = torch.tensor(image, dtype=torch.float32)\n",
    "        image = image.unsqueeze(0)  # Add channel dimension\n",
    "        return image, label"
   ]
  },
  {
   "cell_type": "code",
   "execution_count": 13,
   "metadata": {},
   "outputs": [],
   "source": [
    "# Create dataset instances\n",
    "train_dataset = NiftiDataset(train_paths, train_labels_tensor)\n",
    "val_dataset = NiftiDataset(val_paths, val_labels_tensor)\n",
    "\n",
    "# Define DataLoaders\n",
    "train_loader = DataLoader(train_dataset, batch_size=64, shuffle=True)\n",
    "val_loader = DataLoader(val_dataset, batch_size=64, shuffle=False)"
   ]
  },
  {
   "cell_type": "markdown",
   "metadata": {},
   "source": [
    "# 3D CNN 模型架構定義\n",
    "## 模型組件\n",
    "\n",
    "1. **卷積層（Convolutional Layers）**：\n",
    "    - 第一層：使用16個3x3x3的過濾器。\n",
    "    - 第二層：使用32個3x3x3的過濾器。\n",
    "\n",
    "2. **池化層（Pooling Layers）**：\n",
    "    - 每個卷積層後面跟著的最大池化層，使用2x2x2的池化窗口。\n",
    "\n",
    "3. **批量歸一化層（Batch Normalization Layers）**：\n",
    "    - 在每個池化層之後進行批量歸一化，有助於模型學習過程中的穩定性和效率。\n",
    "\n",
    "4. **全局平均池化層（Global Average Pooling Layer）**：\n",
    "    - 對特徵圖進行全局平均池化，將每個特徵通道的空間維度縮減為單一數值。\n",
    "\n",
    "5. **全連接層（Dense Layers）**：\n",
    "    - 第一層：32個輸入特徵映射到64個神經元。\n",
    "    - Dropout層：在全連接層後添加，dropout比例設為0.3，以減少訓練過程中的過擬合。\n",
    "\n",
    "6. **輸出層（Output Layer）**：\n",
    "    - 將64個神經元的輸出映射到3個輸出單元，對應於3個不同類別的預測。"
   ]
  },
  {
   "cell_type": "code",
   "execution_count": 14,
   "metadata": {},
   "outputs": [],
   "source": [
    "class Conv3DNet(nn.Module):\n",
    "    def __init__(self, width, height, depth):\n",
    "        super(Conv3DNet, self).__init__()\n",
    "        \n",
    "        # Convolutional Layer 1\n",
    "        self.conv1 = nn.Conv3d(in_channels=1, out_channels=16, kernel_size=3)\n",
    "        self.pool1 = nn.MaxPool3d(kernel_size=2)  # Corrected keyword argument here\n",
    "        self.bn1 = nn.BatchNorm3d(num_features=16)\n",
    "\n",
    "        # Convolutional Layer 2\n",
    "        self.conv2 = nn.Conv3d(in_channels=16, out_channels=32, kernel_size=3)\n",
    "        self.pool2 = nn.MaxPool3d(kernel_size=2)  # Corrected keyword argument here\n",
    "        self.bn2 = nn.BatchNorm3d(num_features=32)\n",
    "\n",
    "        # Global Average Pooling\n",
    "        self.global_avg_pool = nn.AdaptiveAvgPool3d(1)\n",
    "\n",
    "        # Dense Layer\n",
    "        self.fc1 = nn.Linear(in_features=32, out_features=64)\n",
    "        self.dropout = nn.Dropout(0.3)\n",
    "\n",
    "        # Output Layer\n",
    "        self.fc2 = nn.Linear(in_features=64, out_features=3)\n",
    "\n",
    "    def forward(self, x):\n",
    "        # Apply first convolutional block\n",
    "        x = self.conv1(x)\n",
    "        x = nn.ReLU()(x)\n",
    "        x = self.pool1(x)\n",
    "        x = self.bn1(x)\n",
    "\n",
    "        # Apply second convolutional block\n",
    "        x = self.conv2(x)\n",
    "        x = nn.ReLU()(x)\n",
    "        x = self.pool2(x)\n",
    "        x = self.bn2(x)\n",
    "\n",
    "        # Apply global average pooling\n",
    "        x = self.global_avg_pool(x)\n",
    "        x = torch.flatten(x, 1)  # Flatten the tensor\n",
    "\n",
    "        # Apply dense layer with dropout\n",
    "        x = self.fc1(x)\n",
    "        x = nn.ReLU()(x)\n",
    "        x = self.dropout(x)\n",
    "\n",
    "        # Output layer\n",
    "        x = self.fc2(x)\n",
    "        return nn.Softmax(dim=1)(x)"
   ]
  },
  {
   "cell_type": "code",
   "execution_count": 15,
   "metadata": {},
   "outputs": [],
   "source": [
    "model = Conv3DNet(96, 96, 96).to('cuda')\n",
    "optimizer = optim.Adam(model.parameters(), lr=0.001)"
   ]
  },
  {
   "cell_type": "markdown",
   "metadata": {},
   "source": [
    "# 訓練與驗證 3D CNN 模型\n",
    "\n",
    "此代碼塊主要用於訓練和驗證一個三維卷積神經網路（3D CNN）模型。模型被訓練來處理醫學影像數據，並在20個週期（epochs）內進行迭代訓練和驗證。\n",
    "\n",
    "## 訓練過程\n",
    "\n",
    "- 每個週期開始時，模型設定為訓練模式。\n",
    "- 數據被加載並分批（通過 `train_loader`）傳遞到模型中。\n",
    "- 對於每一批數據，模型首先在GPU上進行計算（`.to('cuda')`），然後進行前向傳播，計算損失，並進行反向傳播更新模型參數。\n",
    "- 訓練損失被累加，用於後續計算整個週期的平均訓練損失。\n",
    "- 同時，模型預測和真實目標被收集，用於計算訓練準確度和F1分數。\n",
    "\n",
    "## 驗證過程\n",
    "\n",
    "- 在每個訓練週期後，模型切換到評估模式。\n",
    "- 使用不參與訓練的驗證數據集（通過 `val_loader` 加載）來評估模型的性能。\n",
    "- 在這個階段，不進行梯度計算（`torch.no_grad()`），以減少內存使用並加速處理。\n",
    "- 驗證損失、驗證準確度和驗證F1分數被計算，以評估模型在未見數據上的表現。\n",
    "\n",
    "## 保存模型和早期停止\n",
    "\n",
    "- 如果在某個週期的驗證損失比之前所有週期都低，或者驗證準確度有提高，則保存該模型。\n",
    "- 兩種不同的保存策略：一種基於最低驗證損失（`Subject_based_Splitting_3DCNN_pytorch_model_min_loss.pth`），另一種基於最高驗證準確度（`Subject_based_Splitting_3DCNN_pytorch_model_max_accuracy.pth`）。\n",
    "- 如果連續多個週期沒有改善（在這個例子中是超過3個週期），則實行早期停止，以防止過擬合。\n",
    "\n",
    "## 性能輸出\n",
    "\n",
    "- 每個週期結束時，打印訓練和驗證損失，以及準確度和F1分數，以便於追蹤模型的學習進度和性能。\n",
    "\n"
   ]
  },
  {
   "cell_type": "code",
   "execution_count": 16,
   "metadata": {},
   "outputs": [
    {
     "name": "stderr",
     "output_type": "stream",
     "text": [
      "Training Epoch 1/20: 100%|██████████| 40/40 [03:56<00:00,  5.91s/it]\n",
      "Validation Epoch 1/20: 100%|██████████| 11/11 [00:42<00:00,  3.91s/it]\n"
     ]
    },
    {
     "name": "stdout",
     "output_type": "stream",
     "text": [
      "Epoch 1, Train Loss: 1.0822599142789842, Validation Loss: 1.0647034211592241\n",
      "Training Accuracy: 0.4474616292798111, Training F1: 0.40790436656339996\n",
      "Validation Accuracy: 0.6298600311041991, Validation F1: 0.488021321809742\n"
     ]
    },
    {
     "name": "stderr",
     "output_type": "stream",
     "text": [
      "Training Epoch 2/20: 100%|██████████| 40/40 [03:57<00:00,  5.93s/it]\n",
      "Validation Epoch 2/20: 100%|██████████| 11/11 [00:46<00:00,  4.21s/it]\n"
     ]
    },
    {
     "name": "stdout",
     "output_type": "stream",
     "text": [
      "Epoch 2, Train Loss: 1.0416441559791565, Validation Loss: 0.943660708990964\n",
      "Training Accuracy: 0.5080676898858717, Training F1: 0.38242492315461174\n",
      "Validation Accuracy: 0.6220839813374806, Validation F1: 0.4869732031137725\n"
     ]
    },
    {
     "name": "stderr",
     "output_type": "stream",
     "text": [
      "Training Epoch 3/20: 100%|██████████| 40/40 [04:25<00:00,  6.64s/it]\n",
      "Validation Epoch 3/20: 100%|██████████| 11/11 [00:53<00:00,  4.86s/it]\n"
     ]
    },
    {
     "name": "stdout",
     "output_type": "stream",
     "text": [
      "Epoch 3, Train Loss: 1.0100357249379157, Validation Loss: 0.9156421314586293\n",
      "Training Accuracy: 0.5245966155057065, Training F1: 0.41967920050872815\n",
      "Validation Accuracy: 0.6314152410575428, Validation F1: 0.48875993874044293\n"
     ]
    },
    {
     "name": "stderr",
     "output_type": "stream",
     "text": [
      "Training Epoch 4/20: 100%|██████████| 40/40 [05:20<00:00,  8.01s/it]\n",
      "Validation Epoch 4/20: 100%|██████████| 11/11 [00:54<00:00,  4.96s/it]\n"
     ]
    },
    {
     "name": "stdout",
     "output_type": "stream",
     "text": [
      "Epoch 4, Train Loss: 0.9990682020783425, Validation Loss: 0.9115889505906538\n",
      "Training Accuracy: 0.5360094451003542, Training F1: 0.4627480729050594\n",
      "Validation Accuracy: 0.5956454121306376, Validation F1: 0.5054630820590688\n"
     ]
    },
    {
     "name": "stderr",
     "output_type": "stream",
     "text": [
      "Training Epoch 5/20: 100%|██████████| 40/40 [04:08<00:00,  6.20s/it]\n",
      "Validation Epoch 5/20: 100%|██████████| 11/11 [00:53<00:00,  4.85s/it]\n"
     ]
    },
    {
     "name": "stdout",
     "output_type": "stream",
     "text": [
      "Epoch 5, Train Loss: 0.9916991382837296, Validation Loss: 0.8946336074308916\n",
      "Training Accuracy: 0.5434868162140889, Training F1: 0.4771967264912916\n",
      "Validation Accuracy: 0.6220839813374806, Validation F1: 0.4843069921821996\n"
     ]
    },
    {
     "name": "stderr",
     "output_type": "stream",
     "text": [
      "Training Epoch 6/20: 100%|██████████| 40/40 [05:17<00:00,  7.95s/it]\n",
      "Validation Epoch 6/20: 100%|██████████| 11/11 [00:53<00:00,  4.84s/it]\n"
     ]
    },
    {
     "name": "stdout",
     "output_type": "stream",
     "text": [
      "Epoch 6, Train Loss: 0.9860999554395675, Validation Loss: 0.9193185676227916\n",
      "Training Accuracy: 0.5442739079102715, Training F1: 0.47902816426825834\n",
      "Validation Accuracy: 0.6314152410575428, Validation F1: 0.48875993874044293\n"
     ]
    },
    {
     "name": "stderr",
     "output_type": "stream",
     "text": [
      "Training Epoch 7/20: 100%|██████████| 40/40 [04:57<00:00,  7.45s/it]\n",
      "Validation Epoch 7/20: 100%|██████████| 11/11 [00:51<00:00,  4.71s/it]\n"
     ]
    },
    {
     "name": "stdout",
     "output_type": "stream",
     "text": [
      "Epoch 7, Train Loss: 0.9852770805358887, Validation Loss: 0.8929165005683899\n",
      "Training Accuracy: 0.5533254624163715, Training F1: 0.48786886702307986\n",
      "Validation Accuracy: 0.6220839813374806, Validation F1: 0.4843069921821996\n"
     ]
    },
    {
     "name": "stderr",
     "output_type": "stream",
     "text": [
      "Training Epoch 8/20: 100%|██████████| 40/40 [09:12<00:00, 13.82s/it]\n",
      "Validation Epoch 8/20: 100%|██████████| 11/11 [01:43<00:00,  9.45s/it]\n"
     ]
    },
    {
     "name": "stdout",
     "output_type": "stream",
     "text": [
      "Epoch 8, Train Loss: 0.9846717834472656, Validation Loss: 0.9045747030865062\n",
      "Training Accuracy: 0.5501770956316411, Training F1: 0.4845310851521382\n",
      "Validation Accuracy: 0.6314152410575428, Validation F1: 0.48875993874044293\n"
     ]
    },
    {
     "name": "stderr",
     "output_type": "stream",
     "text": [
      "Training Epoch 9/20: 100%|██████████| 40/40 [11:13<00:00, 16.83s/it]\n",
      "Validation Epoch 9/20: 100%|██████████| 11/11 [01:42<00:00,  9.32s/it]\n"
     ]
    },
    {
     "name": "stdout",
     "output_type": "stream",
     "text": [
      "Epoch 9, Train Loss: 0.9803782448172569, Validation Loss: 1.1166566285220059\n",
      "Training Accuracy: 0.5450609996064542, Training F1: 0.48196068689622656\n",
      "Validation Accuracy: 0.3701399688958009, Validation F1: 0.34235850342236024\n",
      "Stopping early due to no improvement in validation loss.\n"
     ]
    },
    {
     "data": {
      "image/png": "[encoded data removed]",
      "text/plain": [
       "<Figure size 1000x500 with 1 Axes>"
      ]
     },
     "metadata": {},
     "output_type": "display_data"
    },
    {
     "data": {
      "image/png": "[encoded data removed]",
      "text/plain": [
       "<Figure size 1000x500 with 1 Axes>"
      ]
     },
     "metadata": {},
     "output_type": "display_data"
    }
   ],
   "source": [
    "epochs = 20\n",
    "best_val_loss = float('inf')\n",
    "patience = 0\n",
    "best_val_accuracy = 0.0\n",
    "\n",
    "# 初始化用於繪圖的列表\n",
    "train_losses = []\n",
    "val_losses = []\n",
    "train_accuracies = []\n",
    "val_accuracies = []\n",
    "\n",
    "for epoch in range(epochs):\n",
    "    # 訓練階段\n",
    "    model.train()\n",
    "    train_loss = 0.0\n",
    "    all_train_preds = []\n",
    "    all_train_targets = []\n",
    "    for images, targets in tqdm(train_loader, desc=f\"Training Epoch {epoch + 1}/{epochs}\"):\n",
    "        images = images.to('cuda')\n",
    "        targets = targets.to('cuda')\n",
    "        optimizer.zero_grad()\n",
    "        outputs = model(images)\n",
    "        loss = torch.nn.functional.cross_entropy(outputs, targets)\n",
    "        loss.backward()\n",
    "        optimizer.step()\n",
    "        train_loss += loss.item()\n",
    "\n",
    "        # 收集預測和目標\n",
    "        preds = torch.argmax(outputs, dim=1)\n",
    "        all_train_preds.extend(preds.cpu().numpy())\n",
    "        all_train_targets.extend(targets.cpu().numpy())\n",
    "\n",
    "    # 驗證階段\n",
    "    model.eval()\n",
    "    val_loss = 0.0\n",
    "    all_val_preds = []\n",
    "    all_val_targets = []\n",
    "    with torch.no_grad():\n",
    "        for images, targets in tqdm(val_loader, desc=f\"Validation Epoch {epoch + 1}/{epochs}\"):\n",
    "            images = images.to('cuda')\n",
    "            targets = targets.to('cuda')\n",
    "            outputs = model(images)\n",
    "            loss = torch.nn.functional.cross_entropy(outputs, targets)\n",
    "            val_loss += loss.item()\n",
    "\n",
    "            # 收集預測和目標\n",
    "            preds = torch.argmax(outputs, dim=1)\n",
    "            all_val_preds.extend(preds.cpu().numpy())\n",
    "            all_val_targets.extend(targets.cpu().numpy())\n",
    "\n",
    "    # 計算準確度和 F1 分數\n",
    "    train_accuracy = accuracy_score(all_train_targets, all_train_preds)\n",
    "    train_f1 = f1_score(all_train_targets, all_train_preds, average='weighted')\n",
    "    val_accuracy = accuracy_score(all_val_targets, all_val_preds)\n",
    "    val_f1 = f1_score(all_val_targets, all_val_preds, average='weighted')\n",
    "\n",
    "    # 計算並儲存每次迭代的損失和準確率\n",
    "    avg_train_loss = train_loss / len(train_loader)\n",
    "    avg_val_loss = val_loss / len(val_loader)\n",
    "    train_losses.append(avg_train_loss)\n",
    "    val_losses.append(avg_val_loss)\n",
    "    train_accuracies.append(train_accuracy)\n",
    "    val_accuracies.append(val_accuracy)\n",
    "\n",
    "    print(f\"Epoch {epoch+1}, Train Loss: {train_loss / len(train_loader)}, Validation Loss: {val_loss / len(val_loader)}\")\n",
    "    print(f\"Training Accuracy: {train_accuracy}, Training F1: {train_f1}\")\n",
    "    print(f\"Validation Accuracy: {val_accuracy}, Validation F1: {val_f1}\")\n",
    "\n",
    "    # 保存模型\n",
    "    if val_loss < best_val_loss:\n",
    "        best_val_loss = val_loss\n",
    "        torch.save(model.state_dict(), 'Subject_based_Splitting_3DCNN_pytorch_model_min_loss.pth')\n",
    "        patience = 0\n",
    "    else:\n",
    "        patience += 1\n",
    "\n",
    "    if val_accuracy > best_val_accuracy:\n",
    "        best_val_accuracy = val_accuracy\n",
    "        torch.save(model.state_dict(), 'Subject_based_Splitting_3DCNN_pytorch_model_max_accuracy.pth')\n",
    "        patience = 0\n",
    "    else:\n",
    "        patience += 1\n",
    "\n",
    "    # 早期停止\n",
    "    if patience > 3:\n",
    "        print(\"Stopping early due to no improvement in validation loss.\")\n",
    "        break\n",
    "\n",
    "# 繪製損失圖\n",
    "plt.figure(figsize=(10, 5))\n",
    "plt.plot(train_losses, label='Train Loss')\n",
    "plt.plot(val_losses, label='Validation Loss')\n",
    "plt.title('Train and Validation Loss')\n",
    "plt.xlabel('Epochs')\n",
    "plt.ylabel('Loss')\n",
    "plt.legend()\n",
    "plt.show()\n",
    "\n",
    "# 繪製準確率圖\n",
    "plt.figure(figsize=(10, 5))\n",
    "plt.plot(train_accuracies, label='Training Accuracy')\n",
    "plt.plot(val_accuracies, label='Validation Accuracy')\n",
    "plt.title('Training and Validation Accuracy')\n",
    "plt.xlabel('Epochs')\n",
    "plt.ylabel('Accuracy')\n",
    "plt.legend()\n",
    "plt.show()"
   ]
  }
 ],
 "metadata": {
  "kernelspec": {
   "display_name": "Python 3",
   "language": "python",
   "name": "python3"
  },
  "language_info": {
   "codemirror_mode": {
    "name": "ipython",
    "version": 3
   },
   "file_extension": ".py",
   "mimetype": "text/x-python",
   "name": "python",
   "nbconvert_exporter": "python",
   "pygments_lexer": "ipython3",
   "version": "3.10.13"
  }
 },
 "nbformat": 4,
 "nbformat_minor": 2
}
