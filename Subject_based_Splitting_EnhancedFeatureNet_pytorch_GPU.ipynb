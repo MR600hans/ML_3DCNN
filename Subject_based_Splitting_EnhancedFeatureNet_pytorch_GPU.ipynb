{
 "cells": [
  {
   "cell_type": "markdown",
   "id": "5898d870",
   "metadata": {},
   "source": [
    "# PyTorch 3DCNN Classfication (Subject Base data Splitting)\n",
    "This notebook using PyTorch and cudaGPU."
   ]
  },
  {
   "cell_type": "code",
   "execution_count": 1,
   "metadata": {},
   "outputs": [],
   "source": [
    "import os\n",
    "import pandas as pd\n",
    "import numpy as np\n",
    "import nibabel as nib\n",
    "from sklearn.model_selection import train_test_split\n",
    "import torch\n",
    "import torch.nn.functional as F\n",
    "import torch.nn as nn\n",
    "import torch.optim as optim\n",
    "from torch.utils.data import Dataset, DataLoader\n",
    "from tqdm import tqdm\n",
    "from sklearn.metrics import f1_score, accuracy_score\n",
    "import matplotlib.pyplot as plt"
   ]
  },
  {
   "cell_type": "code",
   "execution_count": 2,
   "metadata": {},
   "outputs": [
    {
     "name": "stdout",
     "output_type": "stream",
     "text": [
      "decive: cuda\n"
     ]
    }
   ],
   "source": [
    "device = torch.device(\"cuda\" if torch.cuda.is_available() else \"cpu\")\n",
    "print(f\"decive: {device}\")"
   ]
  },
  {
   "cell_type": "markdown",
   "metadata": {},
   "source": [
    "# 讀取數據"
   ]
  },
  {
   "cell_type": "code",
   "execution_count": 3,
   "metadata": {},
   "outputs": [],
   "source": [
    "csv_path = 'structured_data_mac.csv'\n",
    "df = pd.read_csv(csv_path)"
   ]
  },
  {
   "cell_type": "markdown",
   "metadata": {},
   "source": [
    "# 檢查並清理數據"
   ]
  },
  {
   "cell_type": "code",
   "execution_count": 4,
   "metadata": {},
   "outputs": [],
   "source": [
    "if df['Group'].isnull().any():\n",
    "    df = df.dropna(subset=['Group'])"
   ]
  },
  {
   "cell_type": "markdown",
   "metadata": {},
   "source": [
    "# 檢查是否存在非預期的標籤值"
   ]
  },
  {
   "cell_type": "code",
   "execution_count": 5,
   "metadata": {},
   "outputs": [],
   "source": [
    "expected_labels = ['CN', 'MCI', 'AD']\n",
    "df = df[df['Group'].isin(expected_labels)]\n",
    "\n",
    "image_paths = df['Image Path'].tolist()"
   ]
  },
  {
   "cell_type": "markdown",
   "metadata": {},
   "source": [
    "# 將標籤映射為數字"
   ]
  },
  {
   "cell_type": "code",
   "execution_count": 6,
   "metadata": {},
   "outputs": [],
   "source": [
    "label_mapping = {'CN': 0, 'MCI': 1, 'AD': 2}\n",
    "labels = df['Group'].map(label_mapping).tolist()"
   ]
  },
  {
   "cell_type": "markdown",
   "metadata": {},
   "source": [
    "# 獲取個別的病人ID"
   ]
  },
  {
   "cell_type": "code",
   "execution_count": 7,
   "metadata": {},
   "outputs": [],
   "source": [
    "unique_patients = df['Subject'].unique()"
   ]
  },
  {
   "cell_type": "markdown",
   "metadata": {},
   "source": [
    "# 根據病人ID進行訓練和驗證分割"
   ]
  },
  {
   "cell_type": "code",
   "execution_count": 8,
   "metadata": {},
   "outputs": [],
   "source": [
    "train_ids, val_ids = train_test_split(unique_patients, test_size=0.2, random_state=42)"
   ]
  },
  {
   "cell_type": "markdown",
   "metadata": {},
   "source": [
    "# 創建訓練和驗證DataFrame"
   ]
  },
  {
   "cell_type": "code",
   "execution_count": 9,
   "metadata": {},
   "outputs": [],
   "source": [
    "train_df = df[df['Subject'].isin(train_ids)]\n",
    "val_df = df[df['Subject'].isin(val_ids)]"
   ]
  },
  {
   "cell_type": "markdown",
   "metadata": {},
   "source": [
    "# 提取訓練和驗證影像路徑和標籤"
   ]
  },
  {
   "cell_type": "code",
   "execution_count": 10,
   "metadata": {},
   "outputs": [],
   "source": [
    "train_paths = train_df['Image Path'].tolist()\n",
    "train_labels = train_df['Group'].map(label_mapping).tolist()\n",
    "val_paths = val_df['Image Path'].tolist()\n",
    "val_labels = val_df['Group'].map(label_mapping).tolist()"
   ]
  },
  {
   "cell_type": "markdown",
   "metadata": {},
   "source": [
    "# 將標籤轉換為 tensor"
   ]
  },
  {
   "cell_type": "code",
   "execution_count": 11,
   "metadata": {},
   "outputs": [],
   "source": [
    "train_labels_tensor = torch.tensor(train_labels, dtype=torch.long)\n",
    "val_labels_tensor = torch.tensor(val_labels, dtype=torch.long)"
   ]
  },
  {
   "cell_type": "code",
   "execution_count": 12,
   "metadata": {},
   "outputs": [],
   "source": [
    "# Define the PyTorch dataset class\n",
    "class NiftiDataset(Dataset):\n",
    "    def __init__(self, image_paths, labels):\n",
    "        self.image_paths = image_paths\n",
    "        self.labels = labels\n",
    "\n",
    "    def __len__(self):\n",
    "        return len(self.image_paths)\n",
    "\n",
    "    def __getitem__(self, idx):\n",
    "        nifti_path = self.image_paths[idx]\n",
    "        label = self.labels[idx]\n",
    "        nifti_image = nib.load(nifti_path)\n",
    "        image = nifti_image.get_fdata()\n",
    "        image = np.resize(image, (96, 96, 96))\n",
    "        image = torch.tensor(image, dtype=torch.float32)\n",
    "        image = image.unsqueeze(0)  # Add channel dimension\n",
    "        return image, label"
   ]
  },
  {
   "cell_type": "code",
   "execution_count": 13,
   "metadata": {},
   "outputs": [],
   "source": [
    "# Create dataset instances\n",
    "train_dataset = NiftiDataset(train_paths, train_labels_tensor)\n",
    "val_dataset = NiftiDataset(val_paths, val_labels_tensor)\n",
    "\n",
    "# Define DataLoaders\n",
    "train_loader = DataLoader(train_dataset, batch_size=4, shuffle=True)\n",
    "val_loader = DataLoader(val_dataset, batch_size=4, shuffle=False)"
   ]
  },
  {
   "cell_type": "markdown",
   "metadata": {},
   "source": [
    "# 3D CNN 模型架構定義\n",
    "## 模型組件\n",
    "- **輸入卷積層**：這個初始層接受單通道輸入，應用 3D 卷積，然後進行批次歸一化和 ELU 激活。它擴展了通道維度以匹配後續層的輸入要求。\n",
    "\n",
    "- **Block-A**：\n",
    "  - 一系列卷積層，每個層後面跟著批次歸一化、ELU 激活和最大池化。\n",
    "  - 這個塊中的卷積層保持相同數量的通道，但通過池化減少空間維度。\n",
    "  - 旨在從輸入數據中提取特徵並進行降採樣。\n",
    "\n",
    "- **重複的 Block-A**：\n",
    "  - Block-A 被多次重複（在此例中為 5 次），以進一步處理和降低數據維度。\n",
    "  - 每次重複都進一步提取特徵並減少空間維度。\n",
    "\n",
    "- **Block-B**：\n",
    "  - 一系列全連接層，處理最後一個重複的 Block-A 的展平輸出。\n",
    "  - 包含用於正規化的 dropout 以及最終的 softmax 分類層。\n",
    "\n",
    "### 前向傳播\n",
    "- 數據通過輸入卷積層，然後進行 Block-A 的重複應用。\n",
    "- 在 Block-A 的最後一次重複後，數據被展平並通過 Block-B 進行最終處理和分類。"
   ]
  },
  {
   "cell_type": "code",
   "execution_count": 14,
   "metadata": {},
   "outputs": [],
   "source": [
    "class ModifiedConv3DNet(nn.Module):\n",
    "    def __init__(self):\n",
    "        super(ModifiedConv3DNet, self).__init__()\n",
    "\n",
    "        # Input Convolution Layer\n",
    "        self.input_conv = nn.Sequential(\n",
    "            nn.Conv3d(in_channels=1, out_channels=256, kernel_size=3, padding=1),\n",
    "            nn.BatchNorm3d(num_features=256),\n",
    "            nn.ELU(alpha=1),\n",
    "            nn.Conv3d(in_channels=256, out_channels=64, kernel_size=3, padding=1),\n",
    "            nn.BatchNorm3d(num_features=64),\n",
    "        )\n",
    "        \n",
    "        # Block-A\n",
    "        self.block_a = nn.Sequential(\n",
    "            nn.Conv3d(in_channels=64, out_channels=64, kernel_size=3, padding=1),\n",
    "            nn.BatchNorm3d(num_features=64),\n",
    "            nn.ELU(alpha=1),\n",
    "            nn.MaxPool3d(kernel_size=2, stride=2)\n",
    "        )\n",
    "        \n",
    "\n",
    "        \n",
    "        # Replicate Block-A 5 times\n",
    "        self.repeated_block_a = nn.Sequential(*[self.block_a for _ in range(5)])\n",
    "        \n",
    "        # 計算 flattened_size\n",
    "        D, H, W = 96, 96, 96  # 輸入尺寸\n",
    "        for _ in range(5):  # 經過 5 次池化\n",
    "            D, H, W = D // 2, H // 2, W // 2\n",
    "        flattened_size = 64 * D * H * W\n",
    "\n",
    "        # Block-B\n",
    "        self.block_b = nn.Sequential(\n",
    "            nn.Linear(in_features=flattened_size, out_features=50),\n",
    "            nn.ReLU(),\n",
    "            nn.Linear(in_features=50, out_features=10),\n",
    "            nn.ReLU(),\n",
    "            nn.Linear(in_features=10, out_features=3),\n",
    "            nn.Dropout(p=0.1),\n",
    "            nn.Softmax(dim=1)\n",
    "        )\n",
    "\n",
    "    def forward(self, x):\n",
    "        # Apply input convolution layer\n",
    "        x = self.input_conv(x)\n",
    "\n",
    "        # Apply repeated Block-A\n",
    "        x = self.repeated_block_a(x)\n",
    "        \n",
    "        # Flatten the tensor for the dense layers in Block-B\n",
    "        x = torch.flatten(x, 1)\n",
    "        \n",
    "        # Apply Block-B\n",
    "        x = self.block_b(x)\n",
    "        \n",
    "        return x"
   ]
  },
  {
   "cell_type": "markdown",
   "metadata": {},
   "source": [
    "\n",
    "# Initialize the model"
   ]
  },
  {
   "cell_type": "code",
   "execution_count": 15,
   "metadata": {},
   "outputs": [],
   "source": [
    "model = ModifiedConv3DNet().to('cuda')\n",
    "optimizer = optim.Adam(model.parameters(), lr=0.001)"
   ]
  },
  {
   "cell_type": "markdown",
   "metadata": {},
   "source": [
    "# 訓練與驗證 3D CNN 模型\n",
    "\n",
    "此代碼塊主要用於訓練和驗證一個三維卷積神經網路（3D CNN）模型。模型被訓練來處理醫學影像數據，並在20個週期（epochs）內進行迭代訓練和驗證。\n",
    "\n",
    "## 訓練過程\n",
    "\n",
    "- 每個週期開始時，模型設定為訓練模式。\n",
    "- 數據被加載並分批（通過 `train_loader`）傳遞到模型中。\n",
    "- 對於每一批數據，模型首先在GPU上進行計算（`.to('cuda')`），然後進行前向傳播，計算損失，並進行反向傳播更新模型參數。\n",
    "- 訓練損失被累加，用於後續計算整個週期的平均訓練損失。\n",
    "- 同時，模型預測和真實目標被收集，用於計算訓練準確度和F1分數。\n",
    "\n",
    "## 驗證過程\n",
    "\n",
    "- 在每個訓練週期後，模型切換到評估模式。\n",
    "- 使用不參與訓練的驗證數據集（通過 `val_loader` 加載）來評估模型的性能。\n",
    "- 在這個階段，不進行梯度計算（`torch.no_grad()`），以減少內存使用並加速處理。\n",
    "- 驗證損失、驗證準確度和驗證F1分數被計算，以評估模型在未見數據上的表現。\n",
    "\n",
    "## 保存模型和早期停止\n",
    "\n",
    "- 如果在某個週期的驗證損失比之前所有週期都低，或者驗證準確度有提高，則保存該模型。\n",
    "- 兩種不同的保存策略：一種基於最低驗證損失（`Subject_based_Splitting_3DCNN_pytorch_model_min_loss.pth`），另一種基於最高驗證準確度（`Subject_based_Splitting_3DCNN_pytorch_model_max_accuracy.pth`）。\n",
    "- 如果連續多個週期沒有改善（在這個例子中是超過3個週期），則實行早期停止，以防止過擬合。\n",
    "\n",
    "## 性能輸出\n",
    "\n",
    "- 每個週期結束時，打印訓練和驗證損失，以及準確度和F1分數，以便於追蹤模型的學習進度和性能。\n",
    "\n"
   ]
  },
  {
   "cell_type": "code",
   "execution_count": 16,
   "metadata": {},
   "outputs": [
    {
     "name": "stderr",
     "output_type": "stream",
     "text": [
      "Training Epoch 1/20: 100%|██████████| 636/636 [4:34:26<00:00, 25.89s/it]  \n",
      "Validation Epoch 1/20: 100%|██████████| 161/161 [18:20<00:00,  6.84s/it]\n"
     ]
    },
    {
     "name": "stdout",
     "output_type": "stream",
     "text": [
      "Epoch 1, Train Loss: 1.037518028099582, Validation Loss: 0.928638942493415\n",
      "Training Accuracy: 0.4950806768988587, Training F1: 0.3681045429959004\n",
      "Validation Accuracy: 0.6111975116640747, Validation F1: 0.47904669833130165\n"
     ]
    },
    {
     "name": "stderr",
     "output_type": "stream",
     "text": [
      "Training Epoch 2/20: 100%|██████████| 636/636 [3:30:28<00:00, 19.86s/it]  \n",
      "Validation Epoch 2/20: 100%|██████████| 161/161 [19:48<00:00,  7.38s/it]\n"
     ]
    },
    {
     "name": "stdout",
     "output_type": "stream",
     "text": [
      "Epoch 2, Train Loss: 1.020060878317311, Validation Loss: 0.9214749587989002\n",
      "Training Accuracy: 0.51357733175915, Training F1: 0.41584411614176897\n",
      "Validation Accuracy: 0.6314152410575428, Validation F1: 0.48875993874044293\n"
     ]
    },
    {
     "name": "stderr",
     "output_type": "stream",
     "text": [
      "Training Epoch 3/20: 100%|██████████| 636/636 [3:49:04<00:00, 21.61s/it]  \n",
      "Validation Epoch 3/20: 100%|██████████| 161/161 [17:02<00:00,  6.35s/it]\n"
     ]
    },
    {
     "name": "stdout",
     "output_type": "stream",
     "text": [
      "Epoch 3, Train Loss: 1.0043710868501063, Validation Loss: 0.9333446036954844\n",
      "Training Accuracy: 0.5175127902400629, Training F1: 0.44650918888677377\n",
      "Validation Accuracy: 0.5847589424572317, Validation F1: 0.4908645661989531\n"
     ]
    },
    {
     "name": "stderr",
     "output_type": "stream",
     "text": [
      "Training Epoch 4/20: 100%|██████████| 636/636 [3:23:30<00:00, 19.20s/it]  \n",
      "Validation Epoch 4/20: 100%|██████████| 161/161 [17:00<00:00,  6.34s/it]\n"
     ]
    },
    {
     "name": "stdout",
     "output_type": "stream",
     "text": [
      "Epoch 4, Train Loss: 0.9855154402226022, Validation Loss: 0.9659411048296815\n",
      "Training Accuracy: 0.5446674537583629, Training F1: 0.4813527618700461\n",
      "Validation Accuracy: 0.5614307931570762, Validation F1: 0.5285198123312123\n"
     ]
    },
    {
     "name": "stderr",
     "output_type": "stream",
     "text": [
      "Training Epoch 5/20: 100%|██████████| 636/636 [3:43:39<00:00, 21.10s/it]  \n",
      "Validation Epoch 5/20: 100%|██████████| 161/161 [17:28<00:00,  6.52s/it]\n"
     ]
    },
    {
     "name": "stdout",
     "output_type": "stream",
     "text": [
      "Epoch 5, Train Loss: 0.9593077288858546, Validation Loss: 0.9308994238421043\n",
      "Training Accuracy: 0.5816607634789452, Training F1: 0.514928338097397\n",
      "Validation Accuracy: 0.6111975116640747, Validation F1: 0.509103296546293\n"
     ]
    },
    {
     "name": "stderr",
     "output_type": "stream",
     "text": [
      "Training Epoch 6/20: 100%|██████████| 636/636 [3:45:37<00:00, 21.28s/it]  \n",
      "Validation Epoch 6/20: 100%|██████████| 161/161 [22:21<00:00,  8.33s/it]\n"
     ]
    },
    {
     "name": "stdout",
     "output_type": "stream",
     "text": [
      "Epoch 6, Train Loss: 0.9398650007802736, Validation Loss: 0.9463955260211636\n",
      "Training Accuracy: 0.5977961432506887, Training F1: 0.5341136528311794\n",
      "Validation Accuracy: 0.6034214618973561, Validation F1: 0.5529245946895072\n"
     ]
    },
    {
     "name": "stderr",
     "output_type": "stream",
     "text": [
      "Training Epoch 7/20: 100%|██████████| 636/636 [3:18:26<00:00, 18.72s/it]  \n",
      "Validation Epoch 7/20: 100%|██████████| 161/161 [16:34<00:00,  6.18s/it]\n"
     ]
    },
    {
     "name": "stdout",
     "output_type": "stream",
     "text": [
      "Epoch 7, Train Loss: 0.9177644083147529, Validation Loss: 0.9213957838390184\n",
      "Training Accuracy: 0.6229830775285321, Training F1: 0.5575103648270151\n",
      "Validation Accuracy: 0.6158631415241057, Validation F1: 0.5125710494386737\n"
     ]
    },
    {
     "name": "stderr",
     "output_type": "stream",
     "text": [
      "Training Epoch 8/20: 100%|██████████| 636/636 [3:37:28<00:00, 20.52s/it]  \n",
      "Validation Epoch 8/20: 100%|██████████| 161/161 [17:19<00:00,  6.46s/it]\n"
     ]
    },
    {
     "name": "stdout",
     "output_type": "stream",
     "text": [
      "Epoch 8, Train Loss: 0.8888017514591697, Validation Loss: 0.9888304057328597\n",
      "Training Accuracy: 0.6587957497048406, Training F1: 0.590822831837631\n",
      "Validation Accuracy: 0.5303265940902022, Validation F1: 0.49176589502803253\n"
     ]
    },
    {
     "name": "stderr",
     "output_type": "stream",
     "text": [
      "Training Epoch 9/20: 100%|██████████| 636/636 [3:21:36<00:00, 19.02s/it]  \n",
      "Validation Epoch 9/20: 100%|██████████| 161/161 [16:38<00:00,  6.20s/it]\n"
     ]
    },
    {
     "name": "stdout",
     "output_type": "stream",
     "text": [
      "Epoch 9, Train Loss: 0.8645194471819596, Validation Loss: 0.9528066952776465\n",
      "Training Accuracy: 0.6812278630460449, Training F1: 0.6115476074298534\n",
      "Validation Accuracy: 0.5847589424572317, Validation F1: 0.5232774178524796\n"
     ]
    },
    {
     "name": "stderr",
     "output_type": "stream",
     "text": [
      "Training Epoch 10/20: 100%|██████████| 636/636 [3:16:07<00:00, 18.50s/it]  \n",
      "Validation Epoch 10/20: 100%|██████████| 161/161 [16:37<00:00,  6.19s/it]\n"
     ]
    },
    {
     "name": "stdout",
     "output_type": "stream",
     "text": [
      "Epoch 10, Train Loss: 0.8561610352693114, Validation Loss: 0.9836903184837436\n",
      "Training Accuracy: 0.6914600550964187, Training F1: 0.6212853749813393\n",
      "Validation Accuracy: 0.5614307931570762, Validation F1: 0.5285731193207938\n"
     ]
    },
    {
     "name": "stderr",
     "output_type": "stream",
     "text": [
      "Training Epoch 11/20: 100%|██████████| 636/636 [3:16:08<00:00, 18.50s/it]  \n",
      "Validation Epoch 11/20: 100%|██████████| 161/161 [16:37<00:00,  6.20s/it]"
     ]
    },
    {
     "name": "stdout",
     "output_type": "stream",
     "text": [
      "Epoch 11, Train Loss: 0.8361342868902398, Validation Loss: 0.9508344083098892\n",
      "Training Accuracy: 0.7119244391971665, Training F1: 0.6404728877063277\n",
      "Validation Accuracy: 0.5816485225505443, Validation F1: 0.5219990296529421\n",
      "Stopping early due to no improvement in validation loss.\n"
     ]
    },
    {
     "name": "stderr",
     "output_type": "stream",
     "text": [
      "\n"
     ]
    }
   ],
   "source": [
    "epochs = 20\n",
    "best_val_loss = float('inf')\n",
    "patience = 0\n",
    "best_val_accuracy = 0.0\n",
    "\n",
    "# 初始化用於繪圖的列表\n",
    "train_losses = []\n",
    "val_losses = []\n",
    "train_accuracies = []\n",
    "val_accuracies = []\n",
    "\n",
    "for epoch in range(epochs):\n",
    "# 訓練階段\n",
    "    model.train()\n",
    "    train_loss = 0.0\n",
    "    all_train_preds = []\n",
    "    all_train_targets = []\n",
    "    for images, targets in tqdm(train_loader, desc=f\"Training Epoch {epoch + 1}/{epochs}\"):\n",
    "        images = images.to('cuda')\n",
    "        targets = targets.to('cuda')\n",
    "        optimizer.zero_grad()\n",
    "        outputs = model(images)\n",
    "        loss = torch.nn.functional.cross_entropy(outputs, targets)\n",
    "        loss.backward()\n",
    "        optimizer.step()\n",
    "        train_loss += loss.item()\n",
    "\n",
    "        # 收集預測和目標\n",
    "        preds = torch.argmax(outputs, dim=1)\n",
    "        all_train_preds.extend(preds.cpu().numpy())\n",
    "        all_train_targets.extend(targets.cpu().numpy())\n",
    "\n",
    "    # 驗證階段\n",
    "    model.eval()\n",
    "    val_loss = 0.0\n",
    "    all_val_preds = []\n",
    "    all_val_targets = []\n",
    "    with torch.no_grad():\n",
    "        for images, targets in tqdm(val_loader, desc=f\"Validation Epoch {epoch + 1}/{epochs}\"):\n",
    "            images = images.to('cuda')\n",
    "            targets = targets.to('cuda')\n",
    "            outputs = model(images)\n",
    "            loss = torch.nn.functional.cross_entropy(outputs, targets)\n",
    "            val_loss += loss.item()\n",
    "\n",
    "            # 收集預測和目標\n",
    "            preds = torch.argmax(outputs, dim=1)\n",
    "            all_val_preds.extend(preds.cpu().numpy())\n",
    "            all_val_targets.extend(targets.cpu().numpy())\n",
    "\n",
    "    # 計算準確度和 F1 分數\n",
    "    train_accuracy = accuracy_score(all_train_targets, all_train_preds)\n",
    "    train_f1 = f1_score(all_train_targets, all_train_preds, average='weighted')\n",
    "    val_accuracy = accuracy_score(all_val_targets, all_val_preds)\n",
    "    val_f1 = f1_score(all_val_targets, all_val_preds, average='weighted')\n",
    "\n",
    "    # 計算並儲存每次迭代的損失和準確率\n",
    "    avg_train_loss = train_loss / len(train_loader)\n",
    "    avg_val_loss = val_loss / len(val_loader)\n",
    "    train_losses.append(avg_train_loss)\n",
    "    val_losses.append(avg_val_loss)\n",
    "    train_accuracies.append(train_accuracy)\n",
    "    val_accuracies.append(val_accuracy)\n",
    "\n",
    "    print(f\"Epoch {epoch+1}, Train Loss: {train_loss / len(train_loader)}, Validation Loss: {val_loss / len(val_loader)}\")\n",
    "    print(f\"Training Accuracy: {train_accuracy}, Training F1: {train_f1}\")\n",
    "    print(f\"Validation Accuracy: {val_accuracy}, Validation F1: {val_f1}\")\n",
    "\n",
    "    # 保存模型\n",
    "    if val_loss < best_val_loss:\n",
    "        best_val_loss = val_loss\n",
    "        torch.save(model.state_dict(), 'EnhancedFeatureNet_min_loss.pth')\n",
    "        patience = 0\n",
    "    elif val_accuracy > best_val_accuracy:\n",
    "        best_val_accuracy = val_accuracy\n",
    "        torch.save(model.state_dict(), 'EnhancedFeatureNet_max_accuracy.pth')\n",
    "        patience = 0\n",
    "    else:\n",
    "        patience += 1\n",
    "\n",
    "    # 早期停止\n",
    "    if patience > 3:\n",
    "        print(\"Stopping early due to no improvement in validation loss.\")\n",
    "        break"
   ]
  },
  {
   "cell_type": "code",
   "execution_count": null,
   "metadata": {},
   "outputs": [
    {
     "name": "stdout",
     "output_type": "stream",
     "text": [
      "Accuracy: 0.80\n",
      "Precision: 0.66\n",
      "Recall: 0.80\n",
      "F1 Score: 0.72\n"
     ]
    },
    {
     "name": "stderr",
     "output_type": "stream",
     "text": [
      "c:\\Users\\MR600\\anaconda3\\envs\\ML_PY310\\lib\\site-packages\\sklearn\\metrics\\_classification.py:1471: UndefinedMetricWarning: Precision is ill-defined and being set to 0.0 in labels with no predicted samples. Use `zero_division` parameter to control this behavior.\n",
      "  _warn_prf(average, modifier, msg_start, len(result))\n"
     ]
    }
   ],
   "source": [
    "accuracy = accuracy_score(y_test, y_pred)\n",
    "print(f'Accuracy: {accuracy:.2f}')\n",
    "\n",
    "precision = precision_score(y_test, y_pred, average='weighted')\n",
    "print(f'Precision: {precision:.2f}')\n",
    "\n",
    "recall = recall_score(y_test, y_pred, average='weighted')\n",
    "print(f'Recall: {recall:.2f}')\n",
    "\n",
    "f1 = f1_score(y_test, y_pred, average='weighted')\n",
    "print(f'F1 Score: {f1:.2f}')\n"
   ]
  },
  {
   "cell_type": "code",
   "execution_count": 17,
   "metadata": {},
   "outputs": [
    {
     "data": {
      "image/png": "[encoded data removed]",
      "text/plain": [
       "<Figure size 1000x500 with 1 Axes>"
      ]
     },
     "metadata": {},
     "output_type": "display_data"
    },
    {
     "data": {
      "image/png": "[encoded data removed]",
      "text/plain": [
       "<Figure size 1000x500 with 1 Axes>"
      ]
     },
     "metadata": {},
     "output_type": "display_data"
    }
   ],
   "source": [
    "# 繪製損失圖\n",
    "plt.figure(figsize=(10, 5))\n",
    "plt.plot(train_losses, label='Train Loss')\n",
    "plt.plot(val_losses, label='Validation Loss')\n",
    "plt.title('Train and Validation Loss')\n",
    "plt.xlabel('Epochs')\n",
    "plt.ylabel('Loss')\n",
    "plt.legend()\n",
    "plt.show()\n",
    "\n",
    "# 繪製準確率圖\n",
    "plt.figure(figsize=(10, 5))\n",
    "plt.plot(train_accuracies, label='Training Accuracy')\n",
    "plt.plot(val_accuracies, label='Validation Accuracy')\n",
    "plt.title('Training and Validation Accuracy')\n",
    "plt.xlabel('Epochs')\n",
    "plt.ylabel('Accuracy')\n",
    "plt.legend()\n",
    "plt.show()"
   ]
  }
 ],
 "metadata": {
  "kernelspec": {
   "display_name": "Python 3",
   "language": "python",
   "name": "python3"
  },
  "language_info": {
   "codemirror_mode": {
    "name": "ipython",
    "version": 3
   },
   "file_extension": ".py",
   "mimetype": "text/x-python",
   "name": "python",
   "nbconvert_exporter": "python",
   "pygments_lexer": "ipython3",
   "version": "3.10.13"
  }
 },
 "nbformat": 4,
 "nbformat_minor": 2
}
